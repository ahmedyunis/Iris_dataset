{
  "nbformat": 4,
  "nbformat_minor": 0,
  "metadata": {
    "colab": {
      "name": "Iris_DataSetOneVRest.ipynb",
      "provenance": [],
      "include_colab_link": true
    },
    "kernelspec": {
      "name": "python3",
      "display_name": "Python 3"
    },
    "language_info": {
      "name": "python"
    }
  },
  "cells": [
    {
      "cell_type": "markdown",
      "metadata": {
        "id": "view-in-github",
        "colab_type": "text"
      },
      "source": [
        "<a href=\"https://colab.research.google.com/github/ahmedyunis/Iris_dataset/blob/main/Iris_DataSetOneVRest.ipynb\" target=\"_parent\"><img src=\"https://colab.research.google.com/assets/colab-badge.svg\" alt=\"Open In Colab\"/></a>"
      ]
    },
    {
      "cell_type": "code",
      "metadata": {
        "id": "Ky0-o0z9-qCJ"
      },
      "source": [
        "#Required Libraries\n",
        "import numpy as np\n",
        "import matplotlib.pyplot as plt\n",
        "from sklearn import svm, datasets\n",
        "from sklearn.metrics import classification_report, confusion_matrix\n",
        "from sklearn.multiclass import OneVsRestClassifier\n",
        "from sklearn.svm import SVC\n",
        "from sklearn.linear_model import LogisticRegression\n",
        "\n",
        "\n",
        "#Function to Load Dataset (Iris dataset)\n",
        "def loadDataset():\n",
        " dataset = datasets.load_iris() \n",
        " features = dataset.data\n",
        " labels = dataset.target\n",
        " return dataset, features, labels"
      ],
      "execution_count": null,
      "outputs": []
    },
    {
      "cell_type": "code",
      "metadata": {
        "id": "tBroYg7z-302"
      },
      "source": [
        "#Function to remove class to plot one to one\n",
        "def prepareDataset (X, y, cls_remove=None):\n",
        "  cls = [0, 1, 2]\n",
        "\n",
        "  if cls_remove is not None:\n",
        "     features = []\n",
        "     labels = []\n",
        "     for index, (feat, label) in enumerate(zip(X, y)):\n",
        "        if y[index] != cls_remove:\n",
        "          features.append(feat)\n",
        "          labels.append(label)\n",
        "     cls.pop(cls_remove)\n",
        "  else:\n",
        "    features = X\n",
        "    labels = y\n",
        "\n",
        "  \n",
        "  return np.array(features)[:, 2:4], np.array(labels), cls"
      ],
      "execution_count": null,
      "outputs": []
    },
    {
      "cell_type": "code",
      "metadata": {
        "id": "stHEh_kq_cyF"
      },
      "source": [
        "def label_binary(target, pos_cls):\n",
        "  y=np.copy(target)\n",
        "  if pos_cls == 0 :\n",
        "    for i in range(len(y)):\n",
        "     if y[i] ==0:\n",
        "      y[i]=1\n",
        "     else:\n",
        "      y[i] = -1\n",
        "  elif pos_cls == 1 :\n",
        "    for i in range(len(y)):\n",
        "     if y[i] == 1:\n",
        "      y[i]=1\n",
        "     else:\n",
        "      y[i] = -1\n",
        "  else:\n",
        "    for i in range(len(y)):\n",
        "     if y[i] ==2:\n",
        "      y[i]=1\n",
        "     else:\n",
        "      y[i] = -1\n",
        "  return y \n"
      ],
      "execution_count": null,
      "outputs": []
    },
    {
      "cell_type": "code",
      "metadata": {
        "id": "cWk_JV2pE7vW"
      },
      "source": [
        "lab = label_binary(labelss,pos_cls=2)"
      ],
      "execution_count": null,
      "outputs": []
    },
    {
      "cell_type": "code",
      "metadata": {
        "colab": {
          "base_uri": "https://localhost:8080/"
        },
        "id": "P3VjFzeiGXdJ",
        "outputId": "e8808e8a-e483-4640-991a-899f730fc635"
      },
      "source": [
        "lab"
      ],
      "execution_count": null,
      "outputs": [
        {
          "output_type": "execute_result",
          "data": {
            "text/plain": [
              "array([-1, -1, -1, -1, -1, -1, -1, -1, -1, -1, -1, -1, -1, -1, -1, -1, -1,\n",
              "       -1, -1, -1, -1, -1, -1, -1, -1, -1, -1, -1, -1, -1, -1, -1, -1, -1,\n",
              "       -1, -1, -1, -1, -1, -1, -1, -1, -1, -1, -1, -1, -1, -1, -1, -1, -1,\n",
              "       -1, -1, -1, -1, -1, -1, -1, -1, -1, -1, -1, -1, -1, -1, -1, -1, -1,\n",
              "       -1, -1, -1, -1, -1, -1, -1, -1, -1, -1, -1, -1, -1, -1, -1, -1, -1,\n",
              "       -1, -1, -1, -1, -1, -1, -1, -1, -1, -1, -1, -1, -1, -1, -1,  1,  1,\n",
              "        1,  1,  1,  1,  1,  1,  1,  1,  1,  1,  1,  1,  1,  1,  1,  1,  1,\n",
              "        1,  1,  1,  1,  1,  1,  1,  1,  1,  1,  1,  1,  1,  1,  1,  1,  1,\n",
              "        1,  1,  1,  1,  1,  1,  1,  1,  1,  1,  1,  1,  1,  1])"
            ]
          },
          "metadata": {
            "tags": []
          },
          "execution_count": 110
        }
      ]
    },
    {
      "cell_type": "code",
      "metadata": {
        "id": "DxmLVO_0G1x_"
      },
      "source": [
        "#Function to Plot Data\n",
        "def plotData(features, labels, cls, class_names):\n",
        " colors = ['r', 'b', 'g']\n",
        " markers = ['o', '*', '+']\n",
        " for class_index in range(len(cls)):\n",
        "   plt.scatter(features[labels == cls[class_index], 0], features[labels ==cls[class_index], 1], c=colors[class_index], marker=markers[class_index],label=class_names[cls[class_index]])\n",
        " Title = \"Iris Dataset with {n} classes\" .format(n=int(len(cls)))\n",
        " plt.title(Title)\n",
        " plt.xlabel('Petal Length (cm)' )\n",
        " plt.ylabel('Petal width (cm)' )\n",
        " plt.legend()"
      ],
      "execution_count": null,
      "outputs": []
    },
    {
      "cell_type": "code",
      "metadata": {
        "id": "Ey_IJzJMIyc_"
      },
      "source": [
        "#Function to Plot Decision Boundary\n",
        "def plotRegions(model):\n",
        " ax = plt.gca()\n",
        " xlim = ax.get_xlim()\n",
        " ylim = ax.get_ylim()\n",
        " xx = np.linspace(xlim[ 0], xlim[1], 50)\n",
        " yy = np.linspace(ylim[ 0], ylim[1], 50)\n",
        " XX, YY = np.meshgrid(xx, yy)\n",
        " z = np.vstack([XX.ravel(), YY.ravel()]).T\n",
        " ZZ = model.decision_function(z) .reshape(XX.shape)\n",
        " ax.contourf(XX, YY, ZZ, colors=[ 'c','y'], levels=0, alpha=0.2)"
      ],
      "execution_count": null,
      "outputs": []
    },
    {
      "cell_type": "code",
      "metadata": {
        "id": "bv6e6raoJExK"
      },
      "source": [
        "#Additional Functions\n",
        "def getAccuracy(model, x, y):\n",
        " return model.score(x,y)* 100\n",
        "\n",
        "def getClassNames (target_names):\n",
        " cls_all = {}\n",
        " for i, label in enumerate(target_names):\n",
        "   cls_all[i] = label\n",
        " return cls_all"
      ],
      "execution_count": null,
      "outputs": []
    },
    {
      "cell_type": "code",
      "metadata": {
        "colab": {
          "base_uri": "https://localhost:8080/"
        },
        "id": "-H6K-X2eJzfz",
        "outputId": "e16d028c-d979-47a2-d233-f4c9a04c8556"
      },
      "source": [
        "dataset, features, labels = loadDataset()\n",
        "class_names = getClassNames(dataset.target_names)\n",
        "print('Class names=', class_names)\n",
        "X, Y, cls_new = prepareDataset(features, labels, cls_remove=None)\n",
        "print(\"Number of samples:\", X.shape[0])\n",
        "print(\"Number of features:\", X.shape[1])\n",
        "print(cls_new)\n"
      ],
      "execution_count": null,
      "outputs": [
        {
          "output_type": "stream",
          "text": [
            "Class names= {0: 'setosa', 1: 'versicolor', 2: 'virginica'}\n",
            "Number of samples: 150\n",
            "Number of features: 2\n",
            "[0, 1, 2]\n"
          ],
          "name": "stdout"
        }
      ]
    },
    {
      "cell_type": "code",
      "metadata": {
        "colab": {
          "base_uri": "https://localhost:8080/",
          "height": 598
        },
        "id": "6rVqhIdsJR-5",
        "outputId": "688bf174-9822-4f8c-922d-1a2870f8bfd5"
      },
      "source": [
        "#SVM and Plotting\n",
        "y = label_binary(Y,pos_cls=0)\n",
        "\n",
        "model = OneVsRestClassifier(SVC(decision_function_shape= 'ovr'))\n",
        "model.fit(X, y)\n",
        "print('Accuracy of the model: {:.2f}' .format(getAccuracy(model, X, y)))\n",
        "plotData(X, y, [1,-1], {1: 'setosa', -1: 'versicolor', -1: 'virginica'})\n",
        "\n",
        "plotRegions(model)\n",
        "plt.show()\n",
        "\n",
        "#Stats\n",
        "y_true, y_pred = y, model.predict(X)\n",
        "print('\\nClassification Report:\\n' )\n",
        "print(classification_report(y_true, y_pred))\n",
        "print('\\nConfusion Matrix:\\n' )\n",
        "print(confusion_matrix(y, y_pred))"
      ],
      "execution_count": null,
      "outputs": [
        {
          "output_type": "stream",
          "text": [
            "Accuracy of the model: 95.33\n"
          ],
          "name": "stdout"
        },
        {
          "output_type": "display_data",
          "data": {
            "image/png": "[encoded data removed]",
            "text/plain": [
              "<Figure size 432x288 with 1 Axes>"
            ]
          },
          "metadata": {
            "tags": [],
            "needs_background": "light"
          }
        },
        {
          "output_type": "stream",
          "text": [
            "\n",
            "Classification Report:\n",
            "\n",
            "              precision    recall  f1-score   support\n",
            "\n",
            "          -1       0.95      0.98      0.97       100\n",
            "           1       0.96      0.90      0.93        50\n",
            "\n",
            "    accuracy                           0.95       150\n",
            "   macro avg       0.95      0.94      0.95       150\n",
            "weighted avg       0.95      0.95      0.95       150\n",
            "\n",
            "\n",
            "Confusion Matrix:\n",
            "\n",
            "[[98  2]\n",
            " [ 5 45]]\n"
          ],
          "name": "stdout"
        }
      ]
    },
    {
      "cell_type": "code",
      "metadata": {
        "colab": {
          "base_uri": "https://localhost:8080/",
          "height": 598
        },
        "id": "mCyw65RwRWR6",
        "outputId": "e8bc1f55-05c1-4a44-b4a4-ea77207ef99a"
      },
      "source": [
        "y = label_binary(Y,pos_cls=1)\n",
        "\n",
        "\n",
        "model = OneVsRestClassifier(SVC(decision_function_shape= 'ovr'))\n",
        "model.fit(X, y)\n",
        "print('Accuracy of the model: {:.2f}' .format(getAccuracy(model, X, y)))\n",
        "plotData(X, y, [1,-1], {-1: 'setosa', 1: 'versicolor', -1: 'virginica'})\n",
        "\n",
        "plotRegions(model)\n",
        "plt.show()\n",
        "\n",
        "#Stats\n",
        "y_true, y_pred = y, model.predict(X)\n",
        "print('\\nClassification Report:\\n' )\n",
        "print(classification_report(y_true, y_pred))\n",
        "print('\\nConfusion Matrix:\\n' )\n",
        "print(confusion_matrix(y, y_pred))"
      ],
      "execution_count": null,
      "outputs": [
        {
          "output_type": "stream",
          "text": [
            "Accuracy of the model: 95.33\n"
          ],
          "name": "stdout"
        },
        {
          "output_type": "display_data",
          "data": {
            "image/png": "[encoded data removed]",
            "text/plain": [
              "<Figure size 432x288 with 1 Axes>"
            ]
          },
          "metadata": {
            "tags": [],
            "needs_background": "light"
          }
        },
        {
          "output_type": "stream",
          "text": [
            "\n",
            "Classification Report:\n",
            "\n",
            "              precision    recall  f1-score   support\n",
            "\n",
            "          -1       0.98      0.95      0.96       100\n",
            "           1       0.91      0.96      0.93        50\n",
            "\n",
            "    accuracy                           0.95       150\n",
            "   macro avg       0.94      0.95      0.95       150\n",
            "weighted avg       0.95      0.95      0.95       150\n",
            "\n",
            "\n",
            "Confusion Matrix:\n",
            "\n",
            "[[95  5]\n",
            " [ 2 48]]\n"
          ],
          "name": "stdout"
        }
      ]
    },
    {
      "cell_type": "code",
      "metadata": {
        "colab": {
          "base_uri": "https://localhost:8080/",
          "height": 598
        },
        "id": "M6ZIShMxRWE6",
        "outputId": "79df3cc6-acbd-4da5-efb5-09a4631eb2bf"
      },
      "source": [
        "y = label_binary(Y,pos_cls=2)\n",
        "\n",
        "\n",
        "model = OneVsRestClassifier(SVC(decision_function_shape= 'ovr'))\n",
        "model.fit(X, y)\n",
        "print('Accuracy of the model: {:.2f}' .format(getAccuracy(model, X, y)))\n",
        "plotData(X, y, [1,-1], {-1: 'setosa', -1: 'versicolor', 1: 'virginica'})\n",
        "\n",
        "plotRegions(model)\n",
        "plt.show()\n",
        "\n",
        "#Stats\n",
        "y_true, y_pred = y, model.predict(X)\n",
        "print('\\nClassification Report:\\n' )\n",
        "print(classification_report(y_true, y_pred))\n",
        "print('\\nConfusion Matrix:\\n' )\n",
        "print(confusion_matrix(y, y_pred))"
      ],
      "execution_count": null,
      "outputs": [
        {
          "output_type": "stream",
          "text": [
            "Accuracy of the model: 95.33\n"
          ],
          "name": "stdout"
        },
        {
          "output_type": "display_data",
          "data": {
            "image/png": "[encoded data removed]",
            "text/plain": [
              "<Figure size 432x288 with 1 Axes>"
            ]
          },
          "metadata": {
            "tags": [],
            "needs_background": "light"
          }
        },
        {
          "output_type": "stream",
          "text": [
            "\n",
            "Classification Report:\n",
            "\n",
            "              precision    recall  f1-score   support\n",
            "\n",
            "          -1       0.95      0.98      0.97       100\n",
            "           1       0.96      0.90      0.93        50\n",
            "\n",
            "    accuracy                           0.95       150\n",
            "   macro avg       0.95      0.94      0.95       150\n",
            "weighted avg       0.95      0.95      0.95       150\n",
            "\n",
            "\n",
            "Confusion Matrix:\n",
            "\n",
            "[[98  2]\n",
            " [ 5 45]]\n"
          ],
          "name": "stdout"
        }
      ]
    },
    {
      "cell_type": "code",
      "metadata": {
        "colab": {
          "base_uri": "https://localhost:8080/",
          "height": 598
        },
        "id": "zJyzQ1DSPxw0",
        "outputId": "4334116b-4424-4604-ee66-48de5ea1ef84"
      },
      "source": [
        "#LogisticRegression\n",
        "\n",
        "y = label_binary(Y,pos_cls=0)\n",
        "\n",
        "model = OneVsRestClassifier(LogisticRegression(multi_class='ovr'))\n",
        "model.fit(X, y)\n",
        "print('Accuracy of the model: {:.2f}' .format(getAccuracy(model, X, y)))\n",
        "plotData(X, y, [1,-1], {1: 'setosa', -1: 'versicolor', -1: 'virginica'})\n",
        "\n",
        "plotRegions(model)\n",
        "plt.show()\n",
        "\n",
        "#Stats\n",
        "y_true, y_pred = y, model.predict(X)\n",
        "print('\\nClassification Report:\\n' )\n",
        "print(classification_report(y_true, y_pred))\n",
        "print('\\nConfusion Matrix:\\n' )\n",
        "print(confusion_matrix(y, y_pred))\n"
      ],
      "execution_count": null,
      "outputs": [
        {
          "output_type": "stream",
          "text": [
            "Accuracy of the model: 100.00\n"
          ],
          "name": "stdout"
        },
        {
          "output_type": "display_data",
          "data": {
            "image/png": "[encoded data removed]",
            "text/plain": [
              "<Figure size 432x288 with 1 Axes>"
            ]
          },
          "metadata": {
            "tags": [],
            "needs_background": "light"
          }
        },
        {
          "output_type": "stream",
          "text": [
            "\n",
            "Classification Report:\n",
            "\n",
            "              precision    recall  f1-score   support\n",
            "\n",
            "          -1       1.00      1.00      1.00       100\n",
            "           1       1.00      1.00      1.00        50\n",
            "\n",
            "    accuracy                           1.00       150\n",
            "   macro avg       1.00      1.00      1.00       150\n",
            "weighted avg       1.00      1.00      1.00       150\n",
            "\n",
            "\n",
            "Confusion Matrix:\n",
            "\n",
            "[[100   0]\n",
            " [  0  50]]\n"
          ],
          "name": "stdout"
        }
      ]
    },
    {
      "cell_type": "code",
      "metadata": {
        "colab": {
          "base_uri": "https://localhost:8080/",
          "height": 598
        },
        "id": "SQaWPH2AWGly",
        "outputId": "fb98ac33-d025-4f81-a751-ae8286566782"
      },
      "source": [
        "#LogisticRegression\n",
        "\n",
        "y = label_binary(Y,pos_cls=1)\n",
        "\n",
        "model = OneVsRestClassifier(LogisticRegression(multi_class='ovr'))\n",
        "model.fit(X, y)\n",
        "print('Accuracy of the model: {:.2f}' .format(getAccuracy(model, X, y)))\n",
        "plotData(X, y, [1,-1], {1: 'setosa', -1: 'versicolor', -1: 'virginica'})\n",
        "\n",
        "plotRegions(model)\n",
        "plt.show()\n",
        "\n",
        "#Stats\n",
        "y_true, y_pred = y, model.predict(X)\n",
        "print('\\nClassification Report:\\n' )\n",
        "print(classification_report(y_true, y_pred))\n",
        "print('\\nConfusion Matrix:\\n' )\n",
        "print(confusion_matrix(y, y_pred))\n"
      ],
      "execution_count": null,
      "outputs": [
        {
          "output_type": "stream",
          "text": [
            "Accuracy of the model: 60.00\n"
          ],
          "name": "stdout"
        },
        {
          "output_type": "display_data",
          "data": {
            "image/png": "[encoded data removed]",
            "text/plain": [
              "<Figure size 432x288 with 1 Axes>"
            ]
          },
          "metadata": {
            "tags": [],
            "needs_background": "light"
          }
        },
        {
          "output_type": "stream",
          "text": [
            "\n",
            "Classification Report:\n",
            "\n",
            "              precision    recall  f1-score   support\n",
            "\n",
            "          -1       0.64      0.89      0.75       100\n",
            "           1       0.08      0.02      0.03        50\n",
            "\n",
            "    accuracy                           0.60       150\n",
            "   macro avg       0.36      0.46      0.39       150\n",
            "weighted avg       0.46      0.60      0.51       150\n",
            "\n",
            "\n",
            "Confusion Matrix:\n",
            "\n",
            "[[89 11]\n",
            " [49  1]]\n"
          ],
          "name": "stdout"
        }
      ]
    },
    {
      "cell_type": "code",
      "metadata": {
        "colab": {
          "base_uri": "https://localhost:8080/",
          "height": 598
        },
        "id": "9Faa5pRnXNEn",
        "outputId": "1a1b52a2-5229-4e5a-f935-11da4267a35b"
      },
      "source": [
        "#LogisticRegression\n",
        "\n",
        "y = label_binary(Y,pos_cls=2)\n",
        "\n",
        "model = OneVsRestClassifier(LogisticRegression(multi_class='ovr'))\n",
        "model.fit(X, y)\n",
        "print('Accuracy of the model: {:.2f}' .format(getAccuracy(model, X, y)))\n",
        "plotData(X, y, [1,-1], {1: 'setosa', -1: 'versicolor', -1: 'virginica'})\n",
        "\n",
        "plotRegions(model)\n",
        "plt.show()\n",
        "\n",
        "#Stats\n",
        "y_true, y_pred = y, model.predict(X)\n",
        "print('\\nClassification Report:\\n' )\n",
        "print(classification_report(y_true, y_pred))\n",
        "print('\\nConfusion Matrix:\\n' )\n",
        "print(confusion_matrix(y, y_pred))\n"
      ],
      "execution_count": null,
      "outputs": [
        {
          "output_type": "stream",
          "text": [
            "Accuracy of the model: 96.67\n"
          ],
          "name": "stdout"
        },
        {
          "output_type": "display_data",
          "data": {
            "image/png": "[encoded data removed]",
            "text/plain": [
              "<Figure size 432x288 with 1 Axes>"
            ]
          },
          "metadata": {
            "tags": [],
            "needs_background": "light"
          }
        },
        {
          "output_type": "stream",
          "text": [
            "\n",
            "Classification Report:\n",
            "\n",
            "              precision    recall  f1-score   support\n",
            "\n",
            "          -1       0.98      0.97      0.97       100\n",
            "           1       0.94      0.96      0.95        50\n",
            "\n",
            "    accuracy                           0.97       150\n",
            "   macro avg       0.96      0.96      0.96       150\n",
            "weighted avg       0.97      0.97      0.97       150\n",
            "\n",
            "\n",
            "Confusion Matrix:\n",
            "\n",
            "[[97  3]\n",
            " [ 2 48]]\n"
          ],
          "name": "stdout"
        }
      ]
    },
    {
      "cell_type": "code",
      "metadata": {
        "id": "papzy7STZTVt"
      },
      "source": [
        ""
      ],
      "execution_count": null,
      "outputs": []
    }
  ]
}